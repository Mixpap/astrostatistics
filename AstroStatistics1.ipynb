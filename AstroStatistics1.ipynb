{
 "cells": [
  {
   "cell_type": "markdown",
   "metadata": {},
   "source": [
    "# Μια **πρακτική**  εισαγωγή στην Αστροστατιστική\n",
    "---\n",
    "δηλαδή εφαρμοσμένη στατιστική με ...*εφαρμογές* στην Αστρονομία"
   ]
  },
  {
   "cell_type": "markdown",
   "metadata": {},
   "source": [
    "### Που μας χρειάζεται η στατιστικη \n",
    "(obvious)"
   ]
  },
  {
   "cell_type": "markdown",
   "metadata": {},
   "source": [
    "### Βιβλιογραφία\n",
    "1.Statistics, data mining, and machine learning in astronomy: a practical Python guide for the analysis of survey data. (Princeton University Press, 2014).\n",
    "\n",
    "2.Wall, J. V. & Jenkins, C. R. Practical statistics for astronomers. (Cambridge University Press, 2003).\n",
    "\n",
    "3.Chattopadhyay, A. K. & Chattopadhyay, T. Statistical Methods for Astronomical Data Analysis. 3, (Springer New York, 2014)."
   ]
  },
  {
   "cell_type": "markdown",
   "metadata": {},
   "source": [
    "## Πιθανότητες και βασικές κατανομές\n",
    "Παρακάτω θα εξετάσουμε κάποιες βασικές κατανομές, με μερικές πρακτικές εφαρμογές.\n",
    "### Κατανομές στη Python μέσω της Scipy\n",
    "Η ```scipy``` μας παρέχει όλες τις κατανομές μέσω του module ```scipy.stats```.\n",
    "Ετσι για παράδειγμα μπορούμε να δούμε διάφορες ιδιότητες/μεθόδους της κατανομής Poisson μέσω της instance ```scipy.stats.poisson```.\n",
    "Προσοχή, αυτό που θεωρούμε σαν κατανομή είναι στη πραγματικότητα αυτο που λέμε συνάρτηση πυκνότητας της κατανομής. Δηλαδή η συνάρτηση πυκνότητας της κατανομής Poisson μέσω της παραπάνω instance βρίσκεται από ```scipy.stats.poisson.pmf()```.\n",
    "\n",
    "Για λόγους συντομίας φορτώνουμε όλοκληρο το module ```stats``` ενώ ταυτόχρονα φορτώνουμε τις standard βιβλιοθήκες ```numpy``` και ```matplotlib```"
   ]
  },
  {
   "cell_type": "code",
   "execution_count": 12,
   "metadata": {},
   "outputs": [
    {
     "data": {
      "text/plain": [
       "<Figure size 648x396 with 0 Axes>"
      ]
     },
     "metadata": {},
     "output_type": "display_data"
    }
   ],
   "source": [
    "from scipy import stats\n",
    "from scipy import integrate\n",
    "import numpy as np\n",
    "%matplotlib inline\n",
    "import matplotlib.pyplot as plt\n",
    "from matplotlib import rc,rcParams\n",
    "rc('text', usetex=True)\n",
    "rcParams['figure.figsize'] = (9, 5.5)\n",
    "rcParams['ytick.labelsize'],rcParams['xtick.labelsize'] = 17.,17.\n",
    "rcParams['axes.labelsize']=19.\n",
    "rcParams['legend.fontsize']=17.\n",
    "rcParams['axes.titlesize']=20.\n",
    "import seaborn as sb\n",
    "sb.despine()\n",
    "sb.set_style('white', {'xes.linewidth': 0.5, 'axes.edgecolor':'black'})\n",
    "sb.despine(left=True)"
   ]
  },
  {
   "cell_type": "markdown",
   "metadata": {},
   "source": [
    "### Ομοιογενής (uniform) Κατανομή\n"
   ]
  },
  {
   "cell_type": "markdown",
   "metadata": {},
   "source": [
    "### Διωνυμική (binomial) Κατανομή\n",
    "H διωνυμική κατανομή μας δείχνει τον αριθμό των επιτυχιών $k$ ενός πειράματος με δύο δυνατά αποτελέσματα (Bernouli trials) δεδομένου της πιθανότητας $p$ επιτυχίας ενός πειράματος και του συνολικού αριθμού $n$ των πειραμάτων. \n",
    "\n",
    "Η πυκνότητα πιθανότητας δίνεται από την:\n",
    "$$\n",
    "Pr(k;n,p)=\\binom{n}{k}p^k (1-p)^{n-k}\n",
    "$$\n",
    "\n",
    "Η πιθανότερη τιμή της κατανομής είναι:\n",
    "$$\n",
    "E[k]=np\n",
    "$$\n",
    "και η διακύμανση\n",
    "$$\n",
    "var[k]=np(1-p) =\\sigma ^2\n",
    "$$"
   ]
  },
  {
   "cell_type": "markdown",
   "metadata": {},
   "source": [
    "#### Παράδειγμα 1\n",
    "Ποιά είναι η κατανομή πιθανοτήτων των φορών που θα έχουμε γράμματα αν ρίξουμε ένα νόμισμα 10 φορές?"
   ]
  },
  {
   "cell_type": "code",
   "execution_count": 13,
   "metadata": {},
   "outputs": [
    {
     "data": {
      "text/plain": [
       "<BarContainer object of 10 artists>"
      ]
     },
     "execution_count": 13,
     "metadata": {},
     "output_type": "execute_result"
    },
    {
     "data": {
      "image/png": "[encoded data removed]",
      "text/plain": [
       "<Figure size 648x396 with 1 Axes>"
      ]
     },
     "metadata": {},
     "output_type": "display_data"
    }
   ],
   "source": [
    "kk=np.linspace(0,10,10,dtype=int)\n",
    "pr=stats.binom.pmf(kk,p=0.5,n=10)\n",
    "plt.bar(kk,pr)"
   ]
  },
  {
   "cell_type": "markdown",
   "metadata": {},
   "source": [
    "#### Παράδειγμα 2\n",
    "Υποθέστε ότι γνωρίζουμε από ένα δείγμα 100 γαλαξιακών σμηνών ότι σε 10 από αυτά περιέχεται ένας κυρίαρχος κεντρικός γαλαξίας. Σκοπέυουμε να ελέγξουμε ένα δεύτερο διαφορετικό δείγμα από 30 σμήνη, τα οποία έχουνε επιλεχθεί για παράδειγμα από έναν κατάλογο ακτίνων Χ. \n",
    "\n",
    "* Σε πόσους από αυτους περιμένουμε να υπάρχει το αντίστοιχο φαινόμενο. \n",
    "\n",
    "* Ποια η πιθανότητα να παρατήρησουμε παραπάνω από 8?\n",
    "\n",
    "---\n",
    "\n",
    "Υποθέτουμε ότι $p=0.1$ άρα \n",
    "$$\n",
    "Pr(k)=\\binom{30}{k}0.1^k 0.9^{30-k}\n",
    "$$\n",
    "(Η κατανομή φαίνεται από το διαγραμμα παρακάτω.)\n",
    "\n",
    "* Η πιθανότερη τιμή είναι $\\mu= 3$ με τυπική απόκλιση $\\sigma = 1.6$\n",
    "\n",
    "* Η πιθανότητα να δούμε περισσότερους από 8 είναι:\n",
    "$$\n",
    "Pr(k>8)=\\sum _{i=8}^{30} Pr(i) = 0.02\n",
    "$$\n",
    "\n",
    "Τι θα προτείνατε σε περίπτωση που παρατήρησουμε πχ 10 γαλαξίες?"
   ]
  },
  {
   "cell_type": "code",
   "execution_count": 14,
   "metadata": {},
   "outputs": [
    {
     "name": "stdout",
     "output_type": "stream",
     "text": [
      "Pr(k>8)=0.002\n",
      "Pr(k=10)=0.00037\n"
     ]
    },
    {
     "data": {
      "image/png": "[encoded data removed]",
      "text/plain": [
       "<Figure size 648x396 with 1 Axes>"
      ]
     },
     "metadata": {},
     "output_type": "display_data"
    }
   ],
   "source": [
    "kk=np.linspace(0,30,30,dtype=int)\n",
    "pr=stats.binom.pmf(kk,p=0.1,n=30)\n",
    "plt.bar(kk,pr)\n",
    "print('Pr(k>8)={:.3f}'.format(pr[kk>8].sum()))\n",
    "print('Pr(k=10)={:.5f}'.format(pr[10]))"
   ]
  },
  {
   "cell_type": "markdown",
   "metadata": {},
   "source": [
    "#### Παράδειγμα 3\n",
    "Στο facebook γκρουπ του Μαθηματικού έγινε μια ψηφοφορία για τη κατανομή των ζωδίων των μελών του γκρουπ. Με βάση τα δεδομένα (που δίνονται παρακάτω) μπορούμε να βγάλουμε συμπεράσματα για την κατανομή γεννήσεων μέσα στο έτος?"
   ]
  },
  {
   "cell_type": "code",
   "execution_count": 15,
   "metadata": {},
   "outputs": [
    {
     "data": {
      "text/plain": [
       "<BarContainer object of 12 artists>"
      ]
     },
     "execution_count": 15,
     "metadata": {},
     "output_type": "execute_result"
    },
    {
     "data": {
      "image/png": "[encoded data removed]",
      "text/plain": [
       "<Figure size 648x396 with 1 Axes>"
      ]
     },
     "metadata": {},
     "output_type": "display_data"
    }
   ],
   "source": [
    "data=np.array([37,33,29,42,35,57,41,31,65,49,42,38])\n",
    "names=['Aqr','Psc','Ari','Tau','Gem','Cnc',\n",
    "      'Leo','Vir','Lib','Sco','Sgr','Cap']\n",
    "plt.bar(names,data,label='Data')"
   ]
  },
  {
   "cell_type": "markdown",
   "metadata": {},
   "source": [
    "Κάνουμε την υπόθεση (null hypothesis) οτί η κατανομή των γεννήσεων είναι ισοπίθανη μέσα στο έτος. Άρα θα περιμένουμε ότι ο αριθμός ανθρώπων ανα ζώδιο προέρχεται από ομοιογενή κατανομή.\n",
    "\n",
    "Η πιθανότητα να παρατηρήσουμε έναν συγκεκριμένο αριθμό ατόμων δίνεται από μια διωνυμική κατανομή με πιθανότητα $p=1/12$. Ο αριθμος των ατομων ειναι $n=499$.\n",
    "Άρα η τυπική τιμή είναι $np=41.6$ με τυπική απόκλιση $\\sigma = 6.2$"
   ]
  },
  {
   "cell_type": "code",
   "execution_count": 16,
   "metadata": {},
   "outputs": [
    {
     "name": "stdout",
     "output_type": "stream",
     "text": [
      "E[X] = 41.58 / var[X] = 38.12 (sigma = 6.17)\n"
     ]
    }
   ],
   "source": [
    "N=data.sum()\n",
    "p=1/12\n",
    "mu=N*p\n",
    "var=((p)*(1-p))*N\n",
    "sd=np.sqrt(var)\n",
    "print('E[X] = {:.2f} / var[X] = {:.2f} (sigma = {:.2f})'.format(mu,var,sd))"
   ]
  },
  {
   "cell_type": "code",
   "execution_count": 17,
   "metadata": {},
   "outputs": [
    {
     "data": {
      "text/plain": [
       "<matplotlib.legend.Legend at 0x7f61e6895c88>"
      ]
     },
     "execution_count": 17,
     "metadata": {},
     "output_type": "execute_result"
    },
    {
     "data": {
      "image/png": "[encoded data removed]",
      "text/plain": [
       "<Figure size 648x396 with 1 Axes>"
      ]
     },
     "metadata": {},
     "output_type": "display_data"
    }
   ],
   "source": [
    "plt.bar(names,data,width=0.65,label='Data')\n",
    "plt.hlines(mu,0,11,linestyles='--',label='Expected Value',alpha=0.7)\n",
    "plt.fill_between(range(12),(mu-sd)*np.ones(12),(mu+sd)*np.ones(12),alpha=0.65,label='Standard Deviation')\n",
    "plt.legend(loc=2)"
   ]
  },
  {
   "cell_type": "markdown",
   "metadata": {},
   "source": [
    "Γεια να εξέτασουμε αν ισχύει η υπόθεση θα χρησιμοποιήσουμε το λεγόμενο $x^2$ test του Pearson. \n",
    "Τα δεδομένα μας αποτελούνται από $K=12$ διακριτές τιμές $D_i$. Θεωρώντας τα \"υποτιθέμενα\" δεδομένα $D_{h_i}$ τα οποία στη περίπτωση μας για ομοιογενή κατανομή είναι η τυπική τιμή $np$\n",
    "\n",
    "Όριζουμε τη μετρική $x^2$ -για την οποία θα μιλήσουμε κι αργότερα-:\n",
    "$$\n",
    "x^2=\\sum_{i=1} ^{K} \\frac{(D_i-D_{h_i})^2}{D_{h_i}} = \\sum_{i=1} ^{12} \\frac{(D_i-np)^2}{np} = 30.37\n",
    "$$\n",
    "\n",
    "Στη συνέχεια συγκρίνουμε τη τιμή που μετρήσαμε με τη θεωρητική κατανομή της $x^2$ για $K-1$ βαθμούς ελευθερίας (1 βαθμός ελευθερίας λιγότερος λόγω του μοντέλου που επιλέξαμε).  \n",
    "\n",
    "Η κατανομή της $x^2$ (θα την ονομάσουμε $\\text{chi2}(x)$) αντιπροσωπέυει τη πιθανότητα οι διακυμάνσεις των παρατηρήσεων από τα υποτιθέμενα δεδομένα να είναι τυχαίες. Ο υπολογισμός της πιθανότητας λοιπόν οι παραπάων παρατηρήσεις να είναι τυχαίες δίνονται από τη σχέση:\n",
    "$$\n",
    "P=\\int _{x^2} ^{\\infty} \\text{chi2}(x) dx = 0.0014\n",
    "$$\n",
    "\n",
    "Άρα η πιθανότητα η κατανομή των γεννήσεων ανα μήνα να είναι ομοιογενής στο έτος σύμφωνα με τα παραπάνω δεδομένα είναι 0.14%. Επιλέγοντας μια κρίσιμη τιμή που συνήθως είναι το 5% βγάζουμε το συμπερασμα ότι η υπόθεση μας **απορρίπτεται**.\n"
   ]
  },
  {
   "cell_type": "code",
   "execution_count": 21,
   "metadata": {},
   "outputs": [
    {
     "name": "stdout",
     "output_type": "stream",
     "text": [
      "x^2 = 30.37 / x^2 (reduced) = 2.76\n",
      "P value = 0.0014\n",
      "Null Hypothesis is Rejected\n"
     ]
    },
    {
     "data": {
      "image/png": "[encoded data removed]",
      "text/plain": [
       "<Figure size 648x396 with 1 Axes>"
      ]
     },
     "metadata": {},
     "output_type": "display_data"
    }
   ],
   "source": [
    "x2=np.sum((N*p-data)**2/(N*p))\n",
    "print('x^2 = {:.2f} / x^2 (reduced) = {:.2f}'.format(x2,x2/11))\n",
    "\n",
    "def chi2d(x): return stats.chi2.pdf(x,11)\n",
    "\n",
    "xx=np.linspace(0,1.5*x2,100)\n",
    "plt.plot(xx,chi2d(xx))\n",
    "plt.vlines(x2,0,chi2d(xx).max()/4,linestyles='--',alpha=0.4)\n",
    "plt.fill_between(xx[xx>x2],0,chi2d(xx)[xx>x2],alpha=0.25)\n",
    "plt.xlabel('$x^2$')\n",
    "\n",
    "P=integrate.quad(chi2d,x2,100)[0]\n",
    "Pc=0.05\n",
    "print('P value = {:.4f}'.format(P))\n",
    "NH = 'Accepted' if P>Pc else 'Rejected'\n",
    "print('Null Hypothesis is {}'.format(NH))"
   ]
  },
  {
   "cell_type": "markdown",
   "metadata": {},
   "source": [
    "### Κατανομή Poisson\n",
    "Η κατανομή Poisson είναι μια διακριτή κατανομή του αριθμού γεγονότων σε ένα συγκεκριμένο χρονικό διάστημα δεδομένου του μέσου αριθμού γεγονότων $\\mu$ για αυτό το διάστημα. Η συνάρτηση πυκνότητας πιθανότητας είναι:\n",
    "$$\n",
    "Pr(x;\\mu)=\\frac{\\mu ^x e^{-\\mu}}{x!}\n",
    "$$\n",
    "\n",
    "Η πιθανότερη τιμή της κατανομής καί η διακύμανση είναι:\n",
    "\\begin{align}\n",
    "E[x]=\\mu && var[x]=\\sigma ^2=\\mu\n",
    "\\end{align}"
   ]
  },
  {
   "cell_type": "markdown",
   "metadata": {},
   "source": [
    "#### Παράδειγμα\n",
    "Σε έναν αγώνα ποδοσφαίρου μπαίνουν κατα μέσο όρο $2.5$ γκόλ. Ποιά είναι η πιθανότητα να μπούν $x$ γκόλ?"
   ]
  },
  {
   "cell_type": "code",
   "execution_count": 9,
   "metadata": {},
   "outputs": [
    {
     "data": {
      "text/plain": [
       "<BarContainer object of 9 artists>"
      ]
     },
     "execution_count": 9,
     "metadata": {},
     "output_type": "execute_result"
    },
    {
     "data": {
      "image/png": "[encoded data removed]",
      "text/plain": [
       "<Figure size 432x288 with 1 Axes>"
      ]
     },
     "metadata": {},
     "output_type": "display_data"
    }
   ],
   "source": [
    "xx=np.linspace(0,8,9,dtype=int)\n",
    "pr=stats.poisson.pmf(xx,mu=2.5)\n",
    "plt.bar(xx,pr)"
   ]
  },
  {
   "cell_type": "markdown",
   "metadata": {},
   "source": [
    "### Κανονική Κατανομή (Gaussian)"
   ]
  },
  {
   "cell_type": "markdown",
   "metadata": {},
   "source": [
    "## Τυχαίες μεταβλητές \n",
    "(σελ 72 απο 1)"
   ]
  }
 ],
 "metadata": {
  "kernelspec": {
   "display_name": "Python 3",
   "language": "python",
   "name": "python3"
  },
  "language_info": {
   "codemirror_mode": {
    "name": "ipython",
    "version": 3
   },
   "file_extension": ".py",
   "mimetype": "text/x-python",
   "name": "python",
   "nbconvert_exporter": "python",
   "pygments_lexer": "ipython3",
   "version": "3.5.3"
  }
 },
 "nbformat": 4,
 "nbformat_minor": 2
}
