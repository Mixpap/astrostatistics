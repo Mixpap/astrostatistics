{
 "cells": [
  {
   "cell_type": "code",
   "execution_count": 15,
   "metadata": {},
   "outputs": [
    {
     "name": "stdout",
     "output_type": "stream",
     "text": [
      "The autoreload extension is already loaded. To reload it, use:\n",
      "  %reload_ext autoreload\n"
     ]
    },
    {
     "data": {
      "text/plain": [
       "<matplotlib.figure.Figure at 0x7f45f496c650>"
      ]
     },
     "metadata": {},
     "output_type": "display_data"
    }
   ],
   "source": [
    "import numpy as np\n",
    "from ipywidgets import interactive, widgets,fixed\n",
    "from IPython.display import Audio, display\n",
    "%matplotlib inline\n",
    "import matplotlib.pyplot as plt\n",
    "import matplotlib as mpl\n",
    "import matplotlib.gridspec as gridspec\n",
    "import matplotlib.ticker as ticker\n",
    "from matplotlib import rc,rcParams\n",
    "rc('text', usetex=True)\n",
    "rcParams['figure.figsize'] = (8, 6.5)\n",
    "rcParams['ytick.labelsize'],rcParams['xtick.labelsize'] = 17.,17.\n",
    "rcParams['axes.labelsize']=19.\n",
    "rcParams['legend.fontsize']=17.\n",
    "rcParams['text.latex.preamble'] = ['\\\\usepackage{siunitx}']\n",
    "import seaborn\n",
    "seaborn.despine()\n",
    "seaborn.set_style('white', {'axes.linewidth': 0.5, 'axes.edgecolor':'black'})\n",
    "seaborn.despine(left=True)\n",
    "%load_ext autoreload\n",
    "from astroML.linear_model import TLS_logL\n",
    "from astroML.plotting.mcmc import convert_to_stdev\n",
    "from astroML.datasets import fetch_hogg2010test\n",
    "from astropy.table import Table\n",
    "from scipy import polyfit,linalg\n",
    "from scipy.optimize import curve_fit"
   ]
  },
  {
   "cell_type": "code",
   "execution_count": 4,
   "metadata": {},
   "outputs": [],
   "source": [
    "data = fetch_hogg2010test()\n",
    "data = data[5:]  # no outliers\n",
    "x = data['x']\n",
    "y = data['y']\n",
    "sigma_x = data['sigma_x']\n",
    "sigma_y = data['sigma_y']\n",
    "rho_xy = data['rho_xy']"
   ]
  },
  {
   "cell_type": "code",
   "execution_count": 13,
   "metadata": {},
   "outputs": [
    {
     "data": {
      "text/html": [
       "&lt;Table length=15&gt;\n",
       "<table id=\"table139939567869392\" class=\"table-striped table-bordered table-condensed\">\n",
       "<thead><tr><th>X</th><th>Y</th><th>\\sigma _x</th><th>\\sigma _y</th><th>\\rho _{xy}</th></tr></thead>\n",
       "<thead><tr><th>float64</th><th>float64</th><th>float64</th><th>float64</th><th>float64</th></tr></thead>\n",
       "<tr><td>58.0</td><td>173.0</td><td>9.0</td><td>15.0</td><td>0.67</td></tr>\n",
       "<tr><td>210.0</td><td>479.0</td><td>4.0</td><td>27.0</td><td>-0.02</td></tr>\n",
       "<tr><td>202.0</td><td>504.0</td><td>4.0</td><td>14.0</td><td>-0.05</td></tr>\n",
       "<tr><td>198.0</td><td>510.0</td><td>11.0</td><td>30.0</td><td>-0.84</td></tr>\n",
       "<tr><td>158.0</td><td>416.0</td><td>7.0</td><td>16.0</td><td>-0.69</td></tr>\n",
       "<tr><td>165.0</td><td>393.0</td><td>5.0</td><td>14.0</td><td>0.3</td></tr>\n",
       "<tr><td>201.0</td><td>442.0</td><td>5.0</td><td>25.0</td><td>-0.46</td></tr>\n",
       "<tr><td>157.0</td><td>317.0</td><td>5.0</td><td>52.0</td><td>-0.03</td></tr>\n",
       "<tr><td>131.0</td><td>311.0</td><td>6.0</td><td>16.0</td><td>0.5</td></tr>\n",
       "<tr><td>166.0</td><td>400.0</td><td>6.0</td><td>34.0</td><td>0.73</td></tr>\n",
       "<tr><td>160.0</td><td>337.0</td><td>5.0</td><td>31.0</td><td>-0.52</td></tr>\n",
       "<tr><td>186.0</td><td>423.0</td><td>9.0</td><td>42.0</td><td>0.9</td></tr>\n",
       "<tr><td>125.0</td><td>334.0</td><td>8.0</td><td>26.0</td><td>0.4</td></tr>\n",
       "<tr><td>218.0</td><td>533.0</td><td>6.0</td><td>16.0</td><td>-0.78</td></tr>\n",
       "<tr><td>146.0</td><td>344.0</td><td>5.0</td><td>22.0</td><td>-0.56</td></tr>\n",
       "</table>"
      ],
      "text/plain": [
       "<Table length=15>\n",
       "   X       Y    \\sigma _x \\sigma _y \\rho _{xy}\n",
       "float64 float64  float64   float64   float64  \n",
       "------- ------- --------- --------- ----------\n",
       "   58.0   173.0       9.0      15.0       0.67\n",
       "  210.0   479.0       4.0      27.0      -0.02\n",
       "  202.0   504.0       4.0      14.0      -0.05\n",
       "  198.0   510.0      11.0      30.0      -0.84\n",
       "  158.0   416.0       7.0      16.0      -0.69\n",
       "  165.0   393.0       5.0      14.0        0.3\n",
       "  201.0   442.0       5.0      25.0      -0.46\n",
       "  157.0   317.0       5.0      52.0      -0.03\n",
       "  131.0   311.0       6.0      16.0        0.5\n",
       "  166.0   400.0       6.0      34.0       0.73\n",
       "  160.0   337.0       5.0      31.0      -0.52\n",
       "  186.0   423.0       9.0      42.0        0.9\n",
       "  125.0   334.0       8.0      26.0        0.4\n",
       "  218.0   533.0       6.0      16.0      -0.78\n",
       "  146.0   344.0       5.0      22.0      -0.56"
      ]
     },
     "execution_count": 13,
     "metadata": {},
     "output_type": "execute_result"
    }
   ],
   "source": [
    "t = Table([x, y, sigma_x,sigma_y,rho_xy], names=('X', 'Y', '\\sigma _x','\\sigma _y','\\\\rho _{xy}'))#, meta={'name': 'first table'})\n",
    "t"
   ]
  },
  {
   "cell_type": "code",
   "execution_count": 14,
   "metadata": {},
   "outputs": [
    {
     "data": {
      "text/plain": [
       "<Container object of 3 artists>"
      ]
     },
     "execution_count": 14,
     "metadata": {},
     "output_type": "execute_result"
    },
    {
     "data": {
      "image/png": "[encoded data removed]",
      "text/plain": [
       "<matplotlib.figure.Figure at 0x7f45ff299910>"
      ]
     },
     "metadata": {},
     "output_type": "display_data"
    }
   ],
   "source": [
    "plt.errorbar(x,y,yerr=sigma_y,xerr=sigma_x,fmt='o')"
   ]
  },
  {
   "cell_type": "code",
   "execution_count": 19,
   "metadata": {},
   "outputs": [
    {
     "name": "stdout",
     "output_type": "stream",
     "text": [
      "[ 34.84594131   2.23253622] [ 22.02571655   0.13189614]\n"
     ]
    }
   ],
   "source": [
    "def f(x,b,m): return b+m*x\n",
    "Mcf,dMcf2=curve_fit(f,x,y,[2.,30.],sigma=sigma_y)\n",
    "dMcf=np.sqrt(np.diag(dMcf2))\n",
    "print Mcf, dMcf"
   ]
  },
  {
   "cell_type": "code",
   "execution_count": 24,
   "metadata": {},
   "outputs": [
    {
     "data": {
      "text/plain": [
       "<matplotlib.legend.Legend at 0x7f45f44b1d90>"
      ]
     },
     "execution_count": 24,
     "metadata": {},
     "output_type": "execute_result"
    },
    {
     "data": {
      "image/png": "[encoded data removed]",
      "text/plain": [
       "<matplotlib.figure.Figure at 0x7f45f46f1850>"
      ]
     },
     "metadata": {},
     "output_type": "display_data"
    }
   ],
   "source": [
    "xx=np.linspace(x.min(),x.max())\n",
    "plt.errorbar(x,y,yerr=sigma_y,fmt='o')\n",
    "plt.plot(xx,f(xx,Mcf[0],Mcf[1]),label='Scipy Curve Fit')\n",
    "plt.fill_between(xx,f(xx,Mcf[0]-dMcf[0],Mcf[1]-dMcf[1]),f(xx,Mcf[0]+dMcf[0],Mcf[1]+dMcf[1]),alpha=0.25,label='95\\% Confidence')\n",
    "plt.legend(loc='best')"
   ]
  }
 ],
 "metadata": {
  "kernelspec": {
   "display_name": "Python 2",
   "language": "python",
   "name": "python2"
  },
  "language_info": {
   "codemirror_mode": {
    "name": "ipython",
    "version": 2
   },
   "file_extension": ".py",
   "mimetype": "text/x-python",
   "name": "python",
   "nbconvert_exporter": "python",
   "pygments_lexer": "ipython2",
   "version": "2.7.13"
  }
 },
 "nbformat": 4,
 "nbformat_minor": 2
}
